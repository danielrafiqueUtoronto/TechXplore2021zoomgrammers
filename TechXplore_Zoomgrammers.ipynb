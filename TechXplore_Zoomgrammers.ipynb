{
  "nbformat": 4,
  "nbformat_minor": 0,
  "metadata": {
    "colab": {
      "name": "TechXplore Zoomgrammers.ipynb",
      "provenance": [],
      "collapsed_sections": [],
      "toc_visible": true,
      "include_colab_link": true
    },
    "kernelspec": {
      "name": "python3",
      "display_name": "Python 3"
    }
  },
  "cells": [
    {
      "cell_type": "markdown",
      "metadata": {
        "id": "view-in-github",
        "colab_type": "text"
      },
      "source": [
        "<a href=\"https://colab.research.google.com/github/danielrafiqueUtoronto/TechXplore2021zoomgrammers/blob/main/TechXplore_Zoomgrammers.ipynb\" target=\"_parent\"><img src=\"https://colab.research.google.com/assets/colab-badge.svg\" alt=\"Open In Colab\"/></a>"
      ]
    },
    {
      "cell_type": "markdown",
      "metadata": {
        "id": "QHaiH2f9hX9Z"
      },
      "source": [
        "Machine Learning program that predicts the closing price of bitcoin\r\n",
        "Dataset: https://www.kaggle.com/sudalairajkumar/cryptocurrencypricehistory?select=coin_Bitcoin.csv"
      ]
    },
    {
      "cell_type": "code",
      "metadata": {
        "id": "A3MPM4HsaCEe"
      },
      "source": [
        "import pandas as pd # the 'core' framework for data analysis\r\n",
        "import numpy as np  # necessary for tensorflow models\r\n",
        "import matplotlib.pyplot as plt # plot simple graphs/charts \r\n",
        "import seaborn as sns # Data visualization library "
      ],
      "execution_count": null,
      "outputs": []
    },
    {
      "cell_type": "code",
      "metadata": {
        "colab": {
          "resources": {
            "http://localhost:8080/nbextensions/google.colab/files.js": {
              "data": "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",
              "ok": true,
              "headers": [
                [
                  "content-type",
                  "application/javascript"
                ]
              ],
              "status": 200,
              "status_text": ""
            }
          },
          "base_uri": "https://localhost:8080/",
          "height": 73
        },
        "id": "g0bfiwdSaHH8",
        "outputId": "ab0e54c4-d708-40f6-d58c-aa9cf79fedf7"
      },
      "source": [
        "from google.colab import files\r\n",
        "\r\n",
        "uploaded = files.upload()"
      ],
      "execution_count": null,
      "outputs": [
        {
          "output_type": "display_data",
          "data": {
            "text/html": [
              "\n",
              "     <input type=\"file\" id=\"files-05ae369f-e64f-4952-a975-10b8c5df1fc6\" name=\"files[]\" multiple disabled\n",
              "        style=\"border:none\" />\n",
              "     <output id=\"result-05ae369f-e64f-4952-a975-10b8c5df1fc6\">\n",
              "      Upload widget is only available when the cell has been executed in the\n",
              "      current browser session. Please rerun this cell to enable.\n",
              "      </output>\n",
              "      <script src=\"/nbextensions/google.colab/files.js\"></script> "
            ],
            "text/plain": [
              "<IPython.core.display.HTML object>"
            ]
          },
          "metadata": {
            "tags": []
          }
        },
        {
          "output_type": "stream",
          "text": [
            "Saving coin_Bitcoin.csv to coin_Bitcoin (1).csv\n"
          ],
          "name": "stdout"
        }
      ]
    },
    {
      "cell_type": "code",
      "metadata": {
        "id": "iQizN657iALL"
      },
      "source": [
        "df = pd.read_csv('coin_Bitcoin.csv')"
      ],
      "execution_count": null,
      "outputs": []
    },
    {
      "cell_type": "code",
      "metadata": {
        "colab": {
          "base_uri": "https://localhost:8080/",
          "height": 402
        },
        "id": "49nIhoaSiGLP",
        "outputId": "97f25d44-7442-4b53-d875-fd29bb86bffb"
      },
      "source": [
        "df"
      ],
      "execution_count": null,
      "outputs": [
        {
          "output_type": "execute_result",
          "data": {
            "text/html": [
              "<div>\n",
              "<style scoped>\n",
              "    .dataframe tbody tr th:only-of-type {\n",
              "        vertical-align: middle;\n",
              "    }\n",
              "\n",
              "    .dataframe tbody tr th {\n",
              "        vertical-align: top;\n",
              "    }\n",
              "\n",
              "    .dataframe thead th {\n",
              "        text-align: right;\n",
              "    }\n",
              "</style>\n",
              "<table border=\"1\" class=\"dataframe\">\n",
              "  <thead>\n",
              "    <tr style=\"text-align: right;\">\n",
              "      <th></th>\n",
              "      <th>SNo</th>\n",
              "      <th>Name</th>\n",
              "      <th>Symbol</th>\n",
              "      <th>Date</th>\n",
              "      <th>High</th>\n",
              "      <th>Low</th>\n",
              "      <th>Open</th>\n",
              "      <th>Close</th>\n",
              "      <th>Volume</th>\n",
              "      <th>Marketcap</th>\n",
              "    </tr>\n",
              "  </thead>\n",
              "  <tbody>\n",
              "    <tr>\n",
              "      <th>0</th>\n",
              "      <td>1</td>\n",
              "      <td>Bitcoin</td>\n",
              "      <td>BTC</td>\n",
              "      <td>2013-04-29 23:59:59</td>\n",
              "      <td>147.488007</td>\n",
              "      <td>134.000000</td>\n",
              "      <td>134.444000</td>\n",
              "      <td>144.539993</td>\n",
              "      <td>0.000000e+00</td>\n",
              "      <td>1.603769e+09</td>\n",
              "    </tr>\n",
              "    <tr>\n",
              "      <th>1</th>\n",
              "      <td>2</td>\n",
              "      <td>Bitcoin</td>\n",
              "      <td>BTC</td>\n",
              "      <td>2013-04-30 23:59:59</td>\n",
              "      <td>146.929993</td>\n",
              "      <td>134.050003</td>\n",
              "      <td>144.000000</td>\n",
              "      <td>139.000000</td>\n",
              "      <td>0.000000e+00</td>\n",
              "      <td>1.542813e+09</td>\n",
              "    </tr>\n",
              "    <tr>\n",
              "      <th>2</th>\n",
              "      <td>3</td>\n",
              "      <td>Bitcoin</td>\n",
              "      <td>BTC</td>\n",
              "      <td>2013-05-01 23:59:59</td>\n",
              "      <td>139.889999</td>\n",
              "      <td>107.720001</td>\n",
              "      <td>139.000000</td>\n",
              "      <td>116.989998</td>\n",
              "      <td>0.000000e+00</td>\n",
              "      <td>1.298955e+09</td>\n",
              "    </tr>\n",
              "    <tr>\n",
              "      <th>3</th>\n",
              "      <td>4</td>\n",
              "      <td>Bitcoin</td>\n",
              "      <td>BTC</td>\n",
              "      <td>2013-05-02 23:59:59</td>\n",
              "      <td>125.599998</td>\n",
              "      <td>92.281898</td>\n",
              "      <td>116.379997</td>\n",
              "      <td>105.209999</td>\n",
              "      <td>0.000000e+00</td>\n",
              "      <td>1.168517e+09</td>\n",
              "    </tr>\n",
              "    <tr>\n",
              "      <th>4</th>\n",
              "      <td>5</td>\n",
              "      <td>Bitcoin</td>\n",
              "      <td>BTC</td>\n",
              "      <td>2013-05-03 23:59:59</td>\n",
              "      <td>108.127998</td>\n",
              "      <td>79.099998</td>\n",
              "      <td>106.250000</td>\n",
              "      <td>97.750000</td>\n",
              "      <td>0.000000e+00</td>\n",
              "      <td>1.085995e+09</td>\n",
              "    </tr>\n",
              "    <tr>\n",
              "      <th>...</th>\n",
              "      <td>...</td>\n",
              "      <td>...</td>\n",
              "      <td>...</td>\n",
              "      <td>...</td>\n",
              "      <td>...</td>\n",
              "      <td>...</td>\n",
              "      <td>...</td>\n",
              "      <td>...</td>\n",
              "      <td>...</td>\n",
              "      <td>...</td>\n",
              "    </tr>\n",
              "    <tr>\n",
              "      <th>2857</th>\n",
              "      <td>2858</td>\n",
              "      <td>Bitcoin</td>\n",
              "      <td>BTC</td>\n",
              "      <td>2021-02-23 23:59:59</td>\n",
              "      <td>54204.929756</td>\n",
              "      <td>45290.590268</td>\n",
              "      <td>54204.929756</td>\n",
              "      <td>48824.426869</td>\n",
              "      <td>1.061025e+11</td>\n",
              "      <td>9.099259e+11</td>\n",
              "    </tr>\n",
              "    <tr>\n",
              "      <th>2858</th>\n",
              "      <td>2859</td>\n",
              "      <td>Bitcoin</td>\n",
              "      <td>BTC</td>\n",
              "      <td>2021-02-24 23:59:59</td>\n",
              "      <td>51290.136695</td>\n",
              "      <td>47213.498162</td>\n",
              "      <td>48835.087661</td>\n",
              "      <td>49705.333316</td>\n",
              "      <td>6.369552e+10</td>\n",
              "      <td>9.263931e+11</td>\n",
              "    </tr>\n",
              "    <tr>\n",
              "      <th>2859</th>\n",
              "      <td>2860</td>\n",
              "      <td>Bitcoin</td>\n",
              "      <td>BTC</td>\n",
              "      <td>2021-02-25 23:59:59</td>\n",
              "      <td>51948.966982</td>\n",
              "      <td>47093.853019</td>\n",
              "      <td>49709.082425</td>\n",
              "      <td>47093.853019</td>\n",
              "      <td>5.450657e+10</td>\n",
              "      <td>8.777661e+11</td>\n",
              "    </tr>\n",
              "    <tr>\n",
              "      <th>2860</th>\n",
              "      <td>2861</td>\n",
              "      <td>Bitcoin</td>\n",
              "      <td>BTC</td>\n",
              "      <td>2021-02-26 23:59:59</td>\n",
              "      <td>48370.785260</td>\n",
              "      <td>44454.842114</td>\n",
              "      <td>47180.464054</td>\n",
              "      <td>46339.760083</td>\n",
              "      <td>3.509679e+11</td>\n",
              "      <td>8.637523e+11</td>\n",
              "    </tr>\n",
              "    <tr>\n",
              "      <th>2861</th>\n",
              "      <td>2862</td>\n",
              "      <td>Bitcoin</td>\n",
              "      <td>BTC</td>\n",
              "      <td>2021-02-27 23:59:59</td>\n",
              "      <td>48253.270101</td>\n",
              "      <td>45269.025766</td>\n",
              "      <td>46344.772237</td>\n",
              "      <td>46188.451275</td>\n",
              "      <td>4.591095e+10</td>\n",
              "      <td>8.609781e+11</td>\n",
              "    </tr>\n",
              "  </tbody>\n",
              "</table>\n",
              "<p>2862 rows × 10 columns</p>\n",
              "</div>"
            ],
            "text/plain": [
              "       SNo     Name Symbol  ...         Close        Volume     Marketcap\n",
              "0        1  Bitcoin    BTC  ...    144.539993  0.000000e+00  1.603769e+09\n",
              "1        2  Bitcoin    BTC  ...    139.000000  0.000000e+00  1.542813e+09\n",
              "2        3  Bitcoin    BTC  ...    116.989998  0.000000e+00  1.298955e+09\n",
              "3        4  Bitcoin    BTC  ...    105.209999  0.000000e+00  1.168517e+09\n",
              "4        5  Bitcoin    BTC  ...     97.750000  0.000000e+00  1.085995e+09\n",
              "...    ...      ...    ...  ...           ...           ...           ...\n",
              "2857  2858  Bitcoin    BTC  ...  48824.426869  1.061025e+11  9.099259e+11\n",
              "2858  2859  Bitcoin    BTC  ...  49705.333316  6.369552e+10  9.263931e+11\n",
              "2859  2860  Bitcoin    BTC  ...  47093.853019  5.450657e+10  8.777661e+11\n",
              "2860  2861  Bitcoin    BTC  ...  46339.760083  3.509679e+11  8.637523e+11\n",
              "2861  2862  Bitcoin    BTC  ...  46188.451275  4.591095e+10  8.609781e+11\n",
              "\n",
              "[2862 rows x 10 columns]"
            ]
          },
          "metadata": {
            "tags": []
          },
          "execution_count": 70
        }
      ]
    },
    {
      "cell_type": "code",
      "metadata": {
        "colab": {
          "base_uri": "https://localhost:8080/"
        },
        "id": "UY_yG6q5ly9n",
        "outputId": "790e4271-f1a5-423d-d6ff-621acd990aa2"
      },
      "source": [
        "df.info()"
      ],
      "execution_count": null,
      "outputs": [
        {
          "output_type": "stream",
          "text": [
            "<class 'pandas.core.frame.DataFrame'>\n",
            "RangeIndex: 2862 entries, 0 to 2861\n",
            "Data columns (total 10 columns):\n",
            " #   Column     Non-Null Count  Dtype  \n",
            "---  ------     --------------  -----  \n",
            " 0   SNo        2862 non-null   int64  \n",
            " 1   Name       2862 non-null   object \n",
            " 2   Symbol     2862 non-null   object \n",
            " 3   Date       2862 non-null   object \n",
            " 4   High       2862 non-null   float64\n",
            " 5   Low        2862 non-null   float64\n",
            " 6   Open       2862 non-null   float64\n",
            " 7   Close      2862 non-null   float64\n",
            " 8   Volume     2862 non-null   float64\n",
            " 9   Marketcap  2862 non-null   float64\n",
            "dtypes: float64(6), int64(1), object(3)\n",
            "memory usage: 223.7+ KB\n"
          ],
          "name": "stdout"
        }
      ]
    },
    {
      "cell_type": "code",
      "metadata": {
        "id": "IvPSUpuFiKEw",
        "colab": {
          "base_uri": "https://localhost:8080/"
        },
        "outputId": "9d7a0996-6899-4d0c-8a31-84bc92394bee"
      },
      "source": [
        "df.isnull().sum()"
      ],
      "execution_count": null,
      "outputs": [
        {
          "output_type": "execute_result",
          "data": {
            "text/plain": [
              "SNo          0\n",
              "Name         0\n",
              "Symbol       0\n",
              "Date         0\n",
              "High         0\n",
              "Low          0\n",
              "Open         0\n",
              "Close        0\n",
              "Volume       0\n",
              "Marketcap    0\n",
              "dtype: int64"
            ]
          },
          "metadata": {
            "tags": []
          },
          "execution_count": 72
        }
      ]
    },
    {
      "cell_type": "code",
      "metadata": {
        "colab": {
          "base_uri": "https://localhost:8080/",
          "height": 515
        },
        "id": "yTMDMgXCqZAc",
        "outputId": "da04241d-1f3e-4b95-9ebe-7b47892e4aa4"
      },
      "source": [
        "# Date vs Marketcap\r\n",
        "plt.figure(figsize=(12,8))\r\n",
        "sns.scatterplot(x = 'Date', y = 'Close', data = df)"
      ],
      "execution_count": null,
      "outputs": [
        {
          "output_type": "execute_result",
          "data": {
            "text/plain": [
              "<matplotlib.axes._subplots.AxesSubplot at 0x7fad83086dd0>"
            ]
          },
          "metadata": {
            "tags": []
          },
          "execution_count": 87
        },
        {
          "output_type": "display_data",
          "data": {
            "image/png": "[encoded data removed]",
            "text/plain": [
              "<Figure size 864x576 with 1 Axes>"
            ]
          },
          "metadata": {
            "tags": [],
            "needs_background": "light"
          }
        }
      ]
    },
    {
      "cell_type": "code",
      "metadata": {
        "colab": {
          "base_uri": "https://localhost:8080/",
          "height": 195
        },
        "id": "-BA0a52csOQ5",
        "outputId": "b71118f4-9f27-4056-b0a8-d9b2b9df4070"
      },
      "source": [
        "df = df.drop('SNo', axis = 1) # drop along the columns\r\n",
        "df = df.drop('Name', axis = 1) # drop along the columns \r\n",
        "df = df.drop('Symbol', axis = 1) # drop along the columns \r\n",
        "df = df.drop('Volume', axis = 1) # drop along the columns \r\n",
        "df.head()"
      ],
      "execution_count": null,
      "outputs": [
        {
          "output_type": "execute_result",
          "data": {
            "text/html": [
              "<div>\n",
              "<style scoped>\n",
              "    .dataframe tbody tr th:only-of-type {\n",
              "        vertical-align: middle;\n",
              "    }\n",
              "\n",
              "    .dataframe tbody tr th {\n",
              "        vertical-align: top;\n",
              "    }\n",
              "\n",
              "    .dataframe thead th {\n",
              "        text-align: right;\n",
              "    }\n",
              "</style>\n",
              "<table border=\"1\" class=\"dataframe\">\n",
              "  <thead>\n",
              "    <tr style=\"text-align: right;\">\n",
              "      <th></th>\n",
              "      <th>Date</th>\n",
              "      <th>High</th>\n",
              "      <th>Low</th>\n",
              "      <th>Open</th>\n",
              "      <th>Close</th>\n",
              "      <th>Marketcap</th>\n",
              "      <th>month</th>\n",
              "      <th>year</th>\n",
              "    </tr>\n",
              "  </thead>\n",
              "  <tbody>\n",
              "    <tr>\n",
              "      <th>0</th>\n",
              "      <td>2013-04-29 23:59:59</td>\n",
              "      <td>147.488007</td>\n",
              "      <td>134.000000</td>\n",
              "      <td>134.444000</td>\n",
              "      <td>144.539993</td>\n",
              "      <td>1.603769e+09</td>\n",
              "      <td>4</td>\n",
              "      <td>2013</td>\n",
              "    </tr>\n",
              "    <tr>\n",
              "      <th>1</th>\n",
              "      <td>2013-04-30 23:59:59</td>\n",
              "      <td>146.929993</td>\n",
              "      <td>134.050003</td>\n",
              "      <td>144.000000</td>\n",
              "      <td>139.000000</td>\n",
              "      <td>1.542813e+09</td>\n",
              "      <td>4</td>\n",
              "      <td>2013</td>\n",
              "    </tr>\n",
              "    <tr>\n",
              "      <th>2</th>\n",
              "      <td>2013-05-01 23:59:59</td>\n",
              "      <td>139.889999</td>\n",
              "      <td>107.720001</td>\n",
              "      <td>139.000000</td>\n",
              "      <td>116.989998</td>\n",
              "      <td>1.298955e+09</td>\n",
              "      <td>5</td>\n",
              "      <td>2013</td>\n",
              "    </tr>\n",
              "    <tr>\n",
              "      <th>3</th>\n",
              "      <td>2013-05-02 23:59:59</td>\n",
              "      <td>125.599998</td>\n",
              "      <td>92.281898</td>\n",
              "      <td>116.379997</td>\n",
              "      <td>105.209999</td>\n",
              "      <td>1.168517e+09</td>\n",
              "      <td>5</td>\n",
              "      <td>2013</td>\n",
              "    </tr>\n",
              "    <tr>\n",
              "      <th>4</th>\n",
              "      <td>2013-05-03 23:59:59</td>\n",
              "      <td>108.127998</td>\n",
              "      <td>79.099998</td>\n",
              "      <td>106.250000</td>\n",
              "      <td>97.750000</td>\n",
              "      <td>1.085995e+09</td>\n",
              "      <td>5</td>\n",
              "      <td>2013</td>\n",
              "    </tr>\n",
              "  </tbody>\n",
              "</table>\n",
              "</div>"
            ],
            "text/plain": [
              "                 Date        High         Low  ...     Marketcap  month  year\n",
              "0 2013-04-29 23:59:59  147.488007  134.000000  ...  1.603769e+09      4  2013\n",
              "1 2013-04-30 23:59:59  146.929993  134.050003  ...  1.542813e+09      4  2013\n",
              "2 2013-05-01 23:59:59  139.889999  107.720001  ...  1.298955e+09      5  2013\n",
              "3 2013-05-02 23:59:59  125.599998   92.281898  ...  1.168517e+09      5  2013\n",
              "4 2013-05-03 23:59:59  108.127998   79.099998  ...  1.085995e+09      5  2013\n",
              "\n",
              "[5 rows x 8 columns]"
            ]
          },
          "metadata": {
            "tags": []
          },
          "execution_count": 92
        }
      ]
    },
    {
      "cell_type": "code",
      "metadata": {
        "colab": {
          "base_uri": "https://localhost:8080/",
          "height": 195
        },
        "id": "4M4Enq-8tX8v",
        "outputId": "c8482659-81fc-4298-b2f0-0fc909f9fa8d"
      },
      "source": [
        "df['Date'] = pd.to_datetime(df['Date']) # add new columns for the date and months \r\n",
        "df['month'] = df['Date'].apply(lambda date:date.month)\r\n",
        "df['year'] = df['Date'].apply(lambda date:date.year)\r\n",
        "\r\n",
        "df.head()"
      ],
      "execution_count": null,
      "outputs": [
        {
          "output_type": "execute_result",
          "data": {
            "text/html": [
              "<div>\n",
              "<style scoped>\n",
              "    .dataframe tbody tr th:only-of-type {\n",
              "        vertical-align: middle;\n",
              "    }\n",
              "\n",
              "    .dataframe tbody tr th {\n",
              "        vertical-align: top;\n",
              "    }\n",
              "\n",
              "    .dataframe thead th {\n",
              "        text-align: right;\n",
              "    }\n",
              "</style>\n",
              "<table border=\"1\" class=\"dataframe\">\n",
              "  <thead>\n",
              "    <tr style=\"text-align: right;\">\n",
              "      <th></th>\n",
              "      <th>Date</th>\n",
              "      <th>High</th>\n",
              "      <th>Low</th>\n",
              "      <th>Open</th>\n",
              "      <th>Close</th>\n",
              "      <th>Marketcap</th>\n",
              "      <th>month</th>\n",
              "      <th>year</th>\n",
              "    </tr>\n",
              "  </thead>\n",
              "  <tbody>\n",
              "    <tr>\n",
              "      <th>0</th>\n",
              "      <td>2013-04-29 23:59:59</td>\n",
              "      <td>147.488007</td>\n",
              "      <td>134.000000</td>\n",
              "      <td>134.444000</td>\n",
              "      <td>144.539993</td>\n",
              "      <td>1.603769e+09</td>\n",
              "      <td>4</td>\n",
              "      <td>2013</td>\n",
              "    </tr>\n",
              "    <tr>\n",
              "      <th>1</th>\n",
              "      <td>2013-04-30 23:59:59</td>\n",
              "      <td>146.929993</td>\n",
              "      <td>134.050003</td>\n",
              "      <td>144.000000</td>\n",
              "      <td>139.000000</td>\n",
              "      <td>1.542813e+09</td>\n",
              "      <td>4</td>\n",
              "      <td>2013</td>\n",
              "    </tr>\n",
              "    <tr>\n",
              "      <th>2</th>\n",
              "      <td>2013-05-01 23:59:59</td>\n",
              "      <td>139.889999</td>\n",
              "      <td>107.720001</td>\n",
              "      <td>139.000000</td>\n",
              "      <td>116.989998</td>\n",
              "      <td>1.298955e+09</td>\n",
              "      <td>5</td>\n",
              "      <td>2013</td>\n",
              "    </tr>\n",
              "    <tr>\n",
              "      <th>3</th>\n",
              "      <td>2013-05-02 23:59:59</td>\n",
              "      <td>125.599998</td>\n",
              "      <td>92.281898</td>\n",
              "      <td>116.379997</td>\n",
              "      <td>105.209999</td>\n",
              "      <td>1.168517e+09</td>\n",
              "      <td>5</td>\n",
              "      <td>2013</td>\n",
              "    </tr>\n",
              "    <tr>\n",
              "      <th>4</th>\n",
              "      <td>2013-05-03 23:59:59</td>\n",
              "      <td>108.127998</td>\n",
              "      <td>79.099998</td>\n",
              "      <td>106.250000</td>\n",
              "      <td>97.750000</td>\n",
              "      <td>1.085995e+09</td>\n",
              "      <td>5</td>\n",
              "      <td>2013</td>\n",
              "    </tr>\n",
              "  </tbody>\n",
              "</table>\n",
              "</div>"
            ],
            "text/plain": [
              "                 Date        High         Low  ...     Marketcap  month  year\n",
              "0 2013-04-29 23:59:59  147.488007  134.000000  ...  1.603769e+09      4  2013\n",
              "1 2013-04-30 23:59:59  146.929993  134.050003  ...  1.542813e+09      4  2013\n",
              "2 2013-05-01 23:59:59  139.889999  107.720001  ...  1.298955e+09      5  2013\n",
              "3 2013-05-02 23:59:59  125.599998   92.281898  ...  1.168517e+09      5  2013\n",
              "4 2013-05-03 23:59:59  108.127998   79.099998  ...  1.085995e+09      5  2013\n",
              "\n",
              "[5 rows x 8 columns]"
            ]
          },
          "metadata": {
            "tags": []
          },
          "execution_count": 93
        }
      ]
    },
    {
      "cell_type": "code",
      "metadata": {
        "id": "2RPGH-2LvJpv",
        "colab": {
          "base_uri": "https://localhost:8080/",
          "height": 461
        },
        "outputId": "6c69572b-ceb1-4c87-a144-f0f094fe0c90"
      },
      "source": [
        "plt.figure(figsize=(8,7))\r\n",
        "sns.boxplot(x='month', y = 'Close', data=df) "
      ],
      "execution_count": null,
      "outputs": [
        {
          "output_type": "execute_result",
          "data": {
            "text/plain": [
              "<matplotlib.axes._subplots.AxesSubplot at 0x7fad83061cd0>"
            ]
          },
          "metadata": {
            "tags": []
          },
          "execution_count": 94
        },
        {
          "output_type": "display_data",
          "data": {
            "image/png": "[encoded data removed]",
            "text/plain": [
              "<Figure size 576x504 with 1 Axes>"
            ]
          },
          "metadata": {
            "tags": [],
            "needs_background": "light"
          }
        }
      ]
    },
    {
      "cell_type": "code",
      "metadata": {
        "colab": {
          "base_uri": "https://localhost:8080/",
          "height": 402
        },
        "id": "gj5L15N05lyP",
        "outputId": "c89172c7-8f36-4a5e-c01e-b7e916fd16ad"
      },
      "source": [
        "df = df.drop('Marketcap', axis = 1) # drop along the columns \r\n",
        "df"
      ],
      "execution_count": null,
      "outputs": [
        {
          "output_type": "execute_result",
          "data": {
            "text/html": [
              "<div>\n",
              "<style scoped>\n",
              "    .dataframe tbody tr th:only-of-type {\n",
              "        vertical-align: middle;\n",
              "    }\n",
              "\n",
              "    .dataframe tbody tr th {\n",
              "        vertical-align: top;\n",
              "    }\n",
              "\n",
              "    .dataframe thead th {\n",
              "        text-align: right;\n",
              "    }\n",
              "</style>\n",
              "<table border=\"1\" class=\"dataframe\">\n",
              "  <thead>\n",
              "    <tr style=\"text-align: right;\">\n",
              "      <th></th>\n",
              "      <th>Date</th>\n",
              "      <th>High</th>\n",
              "      <th>Low</th>\n",
              "      <th>Open</th>\n",
              "      <th>Close</th>\n",
              "      <th>month</th>\n",
              "      <th>year</th>\n",
              "    </tr>\n",
              "  </thead>\n",
              "  <tbody>\n",
              "    <tr>\n",
              "      <th>0</th>\n",
              "      <td>2013-04-29 23:59:59</td>\n",
              "      <td>147.488007</td>\n",
              "      <td>134.000000</td>\n",
              "      <td>134.444000</td>\n",
              "      <td>144.539993</td>\n",
              "      <td>4</td>\n",
              "      <td>2013</td>\n",
              "    </tr>\n",
              "    <tr>\n",
              "      <th>1</th>\n",
              "      <td>2013-04-30 23:59:59</td>\n",
              "      <td>146.929993</td>\n",
              "      <td>134.050003</td>\n",
              "      <td>144.000000</td>\n",
              "      <td>139.000000</td>\n",
              "      <td>4</td>\n",
              "      <td>2013</td>\n",
              "    </tr>\n",
              "    <tr>\n",
              "      <th>2</th>\n",
              "      <td>2013-05-01 23:59:59</td>\n",
              "      <td>139.889999</td>\n",
              "      <td>107.720001</td>\n",
              "      <td>139.000000</td>\n",
              "      <td>116.989998</td>\n",
              "      <td>5</td>\n",
              "      <td>2013</td>\n",
              "    </tr>\n",
              "    <tr>\n",
              "      <th>3</th>\n",
              "      <td>2013-05-02 23:59:59</td>\n",
              "      <td>125.599998</td>\n",
              "      <td>92.281898</td>\n",
              "      <td>116.379997</td>\n",
              "      <td>105.209999</td>\n",
              "      <td>5</td>\n",
              "      <td>2013</td>\n",
              "    </tr>\n",
              "    <tr>\n",
              "      <th>4</th>\n",
              "      <td>2013-05-03 23:59:59</td>\n",
              "      <td>108.127998</td>\n",
              "      <td>79.099998</td>\n",
              "      <td>106.250000</td>\n",
              "      <td>97.750000</td>\n",
              "      <td>5</td>\n",
              "      <td>2013</td>\n",
              "    </tr>\n",
              "    <tr>\n",
              "      <th>...</th>\n",
              "      <td>...</td>\n",
              "      <td>...</td>\n",
              "      <td>...</td>\n",
              "      <td>...</td>\n",
              "      <td>...</td>\n",
              "      <td>...</td>\n",
              "      <td>...</td>\n",
              "    </tr>\n",
              "    <tr>\n",
              "      <th>2857</th>\n",
              "      <td>2021-02-23 23:59:59</td>\n",
              "      <td>54204.929756</td>\n",
              "      <td>45290.590268</td>\n",
              "      <td>54204.929756</td>\n",
              "      <td>48824.426869</td>\n",
              "      <td>2</td>\n",
              "      <td>2021</td>\n",
              "    </tr>\n",
              "    <tr>\n",
              "      <th>2858</th>\n",
              "      <td>2021-02-24 23:59:59</td>\n",
              "      <td>51290.136695</td>\n",
              "      <td>47213.498162</td>\n",
              "      <td>48835.087661</td>\n",
              "      <td>49705.333316</td>\n",
              "      <td>2</td>\n",
              "      <td>2021</td>\n",
              "    </tr>\n",
              "    <tr>\n",
              "      <th>2859</th>\n",
              "      <td>2021-02-25 23:59:59</td>\n",
              "      <td>51948.966982</td>\n",
              "      <td>47093.853019</td>\n",
              "      <td>49709.082425</td>\n",
              "      <td>47093.853019</td>\n",
              "      <td>2</td>\n",
              "      <td>2021</td>\n",
              "    </tr>\n",
              "    <tr>\n",
              "      <th>2860</th>\n",
              "      <td>2021-02-26 23:59:59</td>\n",
              "      <td>48370.785260</td>\n",
              "      <td>44454.842114</td>\n",
              "      <td>47180.464054</td>\n",
              "      <td>46339.760083</td>\n",
              "      <td>2</td>\n",
              "      <td>2021</td>\n",
              "    </tr>\n",
              "    <tr>\n",
              "      <th>2861</th>\n",
              "      <td>2021-02-27 23:59:59</td>\n",
              "      <td>48253.270101</td>\n",
              "      <td>45269.025766</td>\n",
              "      <td>46344.772237</td>\n",
              "      <td>46188.451275</td>\n",
              "      <td>2</td>\n",
              "      <td>2021</td>\n",
              "    </tr>\n",
              "  </tbody>\n",
              "</table>\n",
              "<p>2862 rows × 7 columns</p>\n",
              "</div>"
            ],
            "text/plain": [
              "                    Date          High           Low  ...         Close  month  year\n",
              "0    2013-04-29 23:59:59    147.488007    134.000000  ...    144.539993      4  2013\n",
              "1    2013-04-30 23:59:59    146.929993    134.050003  ...    139.000000      4  2013\n",
              "2    2013-05-01 23:59:59    139.889999    107.720001  ...    116.989998      5  2013\n",
              "3    2013-05-02 23:59:59    125.599998     92.281898  ...    105.209999      5  2013\n",
              "4    2013-05-03 23:59:59    108.127998     79.099998  ...     97.750000      5  2013\n",
              "...                  ...           ...           ...  ...           ...    ...   ...\n",
              "2857 2021-02-23 23:59:59  54204.929756  45290.590268  ...  48824.426869      2  2021\n",
              "2858 2021-02-24 23:59:59  51290.136695  47213.498162  ...  49705.333316      2  2021\n",
              "2859 2021-02-25 23:59:59  51948.966982  47093.853019  ...  47093.853019      2  2021\n",
              "2860 2021-02-26 23:59:59  48370.785260  44454.842114  ...  46339.760083      2  2021\n",
              "2861 2021-02-27 23:59:59  48253.270101  45269.025766  ...  46188.451275      2  2021\n",
              "\n",
              "[2862 rows x 7 columns]"
            ]
          },
          "metadata": {
            "tags": []
          },
          "execution_count": 102
        }
      ]
    },
    {
      "cell_type": "code",
      "metadata": {
        "colab": {
          "base_uri": "https://localhost:8080/",
          "height": 402
        },
        "id": "XTi13sadCe7x",
        "outputId": "24726a32-5380-4bc6-b04b-a769beddedf2"
      },
      "source": [
        "df['day'] = df['Date'].apply(lambda date:date.day)\r\n",
        "df"
      ],
      "execution_count": null,
      "outputs": [
        {
          "output_type": "execute_result",
          "data": {
            "text/html": [
              "<div>\n",
              "<style scoped>\n",
              "    .dataframe tbody tr th:only-of-type {\n",
              "        vertical-align: middle;\n",
              "    }\n",
              "\n",
              "    .dataframe tbody tr th {\n",
              "        vertical-align: top;\n",
              "    }\n",
              "\n",
              "    .dataframe thead th {\n",
              "        text-align: right;\n",
              "    }\n",
              "</style>\n",
              "<table border=\"1\" class=\"dataframe\">\n",
              "  <thead>\n",
              "    <tr style=\"text-align: right;\">\n",
              "      <th></th>\n",
              "      <th>Date</th>\n",
              "      <th>High</th>\n",
              "      <th>Low</th>\n",
              "      <th>Open</th>\n",
              "      <th>Close</th>\n",
              "      <th>month</th>\n",
              "      <th>year</th>\n",
              "      <th>day</th>\n",
              "    </tr>\n",
              "  </thead>\n",
              "  <tbody>\n",
              "    <tr>\n",
              "      <th>0</th>\n",
              "      <td>2013-04-29 23:59:59</td>\n",
              "      <td>147.488007</td>\n",
              "      <td>134.000000</td>\n",
              "      <td>134.444000</td>\n",
              "      <td>144.539993</td>\n",
              "      <td>4</td>\n",
              "      <td>2013</td>\n",
              "      <td>29</td>\n",
              "    </tr>\n",
              "    <tr>\n",
              "      <th>1</th>\n",
              "      <td>2013-04-30 23:59:59</td>\n",
              "      <td>146.929993</td>\n",
              "      <td>134.050003</td>\n",
              "      <td>144.000000</td>\n",
              "      <td>139.000000</td>\n",
              "      <td>4</td>\n",
              "      <td>2013</td>\n",
              "      <td>30</td>\n",
              "    </tr>\n",
              "    <tr>\n",
              "      <th>2</th>\n",
              "      <td>2013-05-01 23:59:59</td>\n",
              "      <td>139.889999</td>\n",
              "      <td>107.720001</td>\n",
              "      <td>139.000000</td>\n",
              "      <td>116.989998</td>\n",
              "      <td>5</td>\n",
              "      <td>2013</td>\n",
              "      <td>1</td>\n",
              "    </tr>\n",
              "    <tr>\n",
              "      <th>3</th>\n",
              "      <td>2013-05-02 23:59:59</td>\n",
              "      <td>125.599998</td>\n",
              "      <td>92.281898</td>\n",
              "      <td>116.379997</td>\n",
              "      <td>105.209999</td>\n",
              "      <td>5</td>\n",
              "      <td>2013</td>\n",
              "      <td>2</td>\n",
              "    </tr>\n",
              "    <tr>\n",
              "      <th>4</th>\n",
              "      <td>2013-05-03 23:59:59</td>\n",
              "      <td>108.127998</td>\n",
              "      <td>79.099998</td>\n",
              "      <td>106.250000</td>\n",
              "      <td>97.750000</td>\n",
              "      <td>5</td>\n",
              "      <td>2013</td>\n",
              "      <td>3</td>\n",
              "    </tr>\n",
              "    <tr>\n",
              "      <th>...</th>\n",
              "      <td>...</td>\n",
              "      <td>...</td>\n",
              "      <td>...</td>\n",
              "      <td>...</td>\n",
              "      <td>...</td>\n",
              "      <td>...</td>\n",
              "      <td>...</td>\n",
              "      <td>...</td>\n",
              "    </tr>\n",
              "    <tr>\n",
              "      <th>2857</th>\n",
              "      <td>2021-02-23 23:59:59</td>\n",
              "      <td>54204.929756</td>\n",
              "      <td>45290.590268</td>\n",
              "      <td>54204.929756</td>\n",
              "      <td>48824.426869</td>\n",
              "      <td>2</td>\n",
              "      <td>2021</td>\n",
              "      <td>23</td>\n",
              "    </tr>\n",
              "    <tr>\n",
              "      <th>2858</th>\n",
              "      <td>2021-02-24 23:59:59</td>\n",
              "      <td>51290.136695</td>\n",
              "      <td>47213.498162</td>\n",
              "      <td>48835.087661</td>\n",
              "      <td>49705.333316</td>\n",
              "      <td>2</td>\n",
              "      <td>2021</td>\n",
              "      <td>24</td>\n",
              "    </tr>\n",
              "    <tr>\n",
              "      <th>2859</th>\n",
              "      <td>2021-02-25 23:59:59</td>\n",
              "      <td>51948.966982</td>\n",
              "      <td>47093.853019</td>\n",
              "      <td>49709.082425</td>\n",
              "      <td>47093.853019</td>\n",
              "      <td>2</td>\n",
              "      <td>2021</td>\n",
              "      <td>25</td>\n",
              "    </tr>\n",
              "    <tr>\n",
              "      <th>2860</th>\n",
              "      <td>2021-02-26 23:59:59</td>\n",
              "      <td>48370.785260</td>\n",
              "      <td>44454.842114</td>\n",
              "      <td>47180.464054</td>\n",
              "      <td>46339.760083</td>\n",
              "      <td>2</td>\n",
              "      <td>2021</td>\n",
              "      <td>26</td>\n",
              "    </tr>\n",
              "    <tr>\n",
              "      <th>2861</th>\n",
              "      <td>2021-02-27 23:59:59</td>\n",
              "      <td>48253.270101</td>\n",
              "      <td>45269.025766</td>\n",
              "      <td>46344.772237</td>\n",
              "      <td>46188.451275</td>\n",
              "      <td>2</td>\n",
              "      <td>2021</td>\n",
              "      <td>27</td>\n",
              "    </tr>\n",
              "  </tbody>\n",
              "</table>\n",
              "<p>2862 rows × 8 columns</p>\n",
              "</div>"
            ],
            "text/plain": [
              "                    Date          High           Low  ...  month  year  day\n",
              "0    2013-04-29 23:59:59    147.488007    134.000000  ...      4  2013   29\n",
              "1    2013-04-30 23:59:59    146.929993    134.050003  ...      4  2013   30\n",
              "2    2013-05-01 23:59:59    139.889999    107.720001  ...      5  2013    1\n",
              "3    2013-05-02 23:59:59    125.599998     92.281898  ...      5  2013    2\n",
              "4    2013-05-03 23:59:59    108.127998     79.099998  ...      5  2013    3\n",
              "...                  ...           ...           ...  ...    ...   ...  ...\n",
              "2857 2021-02-23 23:59:59  54204.929756  45290.590268  ...      2  2021   23\n",
              "2858 2021-02-24 23:59:59  51290.136695  47213.498162  ...      2  2021   24\n",
              "2859 2021-02-25 23:59:59  51948.966982  47093.853019  ...      2  2021   25\n",
              "2860 2021-02-26 23:59:59  48370.785260  44454.842114  ...      2  2021   26\n",
              "2861 2021-02-27 23:59:59  48253.270101  45269.025766  ...      2  2021   27\n",
              "\n",
              "[2862 rows x 8 columns]"
            ]
          },
          "metadata": {
            "tags": []
          },
          "execution_count": 103
        }
      ]
    },
    {
      "cell_type": "code",
      "metadata": {
        "colab": {
          "base_uri": "https://localhost:8080/",
          "height": 402
        },
        "id": "IXmOuZcXCm2A",
        "outputId": "fd8bb1fe-898f-42f2-c15b-ff2ec25587af"
      },
      "source": [
        "df = df.drop('Date', axis = 1) # drop along the columns \r\n",
        "df"
      ],
      "execution_count": null,
      "outputs": [
        {
          "output_type": "execute_result",
          "data": {
            "text/html": [
              "<div>\n",
              "<style scoped>\n",
              "    .dataframe tbody tr th:only-of-type {\n",
              "        vertical-align: middle;\n",
              "    }\n",
              "\n",
              "    .dataframe tbody tr th {\n",
              "        vertical-align: top;\n",
              "    }\n",
              "\n",
              "    .dataframe thead th {\n",
              "        text-align: right;\n",
              "    }\n",
              "</style>\n",
              "<table border=\"1\" class=\"dataframe\">\n",
              "  <thead>\n",
              "    <tr style=\"text-align: right;\">\n",
              "      <th></th>\n",
              "      <th>High</th>\n",
              "      <th>Low</th>\n",
              "      <th>Open</th>\n",
              "      <th>Close</th>\n",
              "      <th>month</th>\n",
              "      <th>year</th>\n",
              "      <th>day</th>\n",
              "    </tr>\n",
              "  </thead>\n",
              "  <tbody>\n",
              "    <tr>\n",
              "      <th>0</th>\n",
              "      <td>147.488007</td>\n",
              "      <td>134.000000</td>\n",
              "      <td>134.444000</td>\n",
              "      <td>144.539993</td>\n",
              "      <td>4</td>\n",
              "      <td>2013</td>\n",
              "      <td>29</td>\n",
              "    </tr>\n",
              "    <tr>\n",
              "      <th>1</th>\n",
              "      <td>146.929993</td>\n",
              "      <td>134.050003</td>\n",
              "      <td>144.000000</td>\n",
              "      <td>139.000000</td>\n",
              "      <td>4</td>\n",
              "      <td>2013</td>\n",
              "      <td>30</td>\n",
              "    </tr>\n",
              "    <tr>\n",
              "      <th>2</th>\n",
              "      <td>139.889999</td>\n",
              "      <td>107.720001</td>\n",
              "      <td>139.000000</td>\n",
              "      <td>116.989998</td>\n",
              "      <td>5</td>\n",
              "      <td>2013</td>\n",
              "      <td>1</td>\n",
              "    </tr>\n",
              "    <tr>\n",
              "      <th>3</th>\n",
              "      <td>125.599998</td>\n",
              "      <td>92.281898</td>\n",
              "      <td>116.379997</td>\n",
              "      <td>105.209999</td>\n",
              "      <td>5</td>\n",
              "      <td>2013</td>\n",
              "      <td>2</td>\n",
              "    </tr>\n",
              "    <tr>\n",
              "      <th>4</th>\n",
              "      <td>108.127998</td>\n",
              "      <td>79.099998</td>\n",
              "      <td>106.250000</td>\n",
              "      <td>97.750000</td>\n",
              "      <td>5</td>\n",
              "      <td>2013</td>\n",
              "      <td>3</td>\n",
              "    </tr>\n",
              "    <tr>\n",
              "      <th>...</th>\n",
              "      <td>...</td>\n",
              "      <td>...</td>\n",
              "      <td>...</td>\n",
              "      <td>...</td>\n",
              "      <td>...</td>\n",
              "      <td>...</td>\n",
              "      <td>...</td>\n",
              "    </tr>\n",
              "    <tr>\n",
              "      <th>2857</th>\n",
              "      <td>54204.929756</td>\n",
              "      <td>45290.590268</td>\n",
              "      <td>54204.929756</td>\n",
              "      <td>48824.426869</td>\n",
              "      <td>2</td>\n",
              "      <td>2021</td>\n",
              "      <td>23</td>\n",
              "    </tr>\n",
              "    <tr>\n",
              "      <th>2858</th>\n",
              "      <td>51290.136695</td>\n",
              "      <td>47213.498162</td>\n",
              "      <td>48835.087661</td>\n",
              "      <td>49705.333316</td>\n",
              "      <td>2</td>\n",
              "      <td>2021</td>\n",
              "      <td>24</td>\n",
              "    </tr>\n",
              "    <tr>\n",
              "      <th>2859</th>\n",
              "      <td>51948.966982</td>\n",
              "      <td>47093.853019</td>\n",
              "      <td>49709.082425</td>\n",
              "      <td>47093.853019</td>\n",
              "      <td>2</td>\n",
              "      <td>2021</td>\n",
              "      <td>25</td>\n",
              "    </tr>\n",
              "    <tr>\n",
              "      <th>2860</th>\n",
              "      <td>48370.785260</td>\n",
              "      <td>44454.842114</td>\n",
              "      <td>47180.464054</td>\n",
              "      <td>46339.760083</td>\n",
              "      <td>2</td>\n",
              "      <td>2021</td>\n",
              "      <td>26</td>\n",
              "    </tr>\n",
              "    <tr>\n",
              "      <th>2861</th>\n",
              "      <td>48253.270101</td>\n",
              "      <td>45269.025766</td>\n",
              "      <td>46344.772237</td>\n",
              "      <td>46188.451275</td>\n",
              "      <td>2</td>\n",
              "      <td>2021</td>\n",
              "      <td>27</td>\n",
              "    </tr>\n",
              "  </tbody>\n",
              "</table>\n",
              "<p>2862 rows × 7 columns</p>\n",
              "</div>"
            ],
            "text/plain": [
              "              High           Low          Open         Close  month  year  day\n",
              "0       147.488007    134.000000    134.444000    144.539993      4  2013   29\n",
              "1       146.929993    134.050003    144.000000    139.000000      4  2013   30\n",
              "2       139.889999    107.720001    139.000000    116.989998      5  2013    1\n",
              "3       125.599998     92.281898    116.379997    105.209999      5  2013    2\n",
              "4       108.127998     79.099998    106.250000     97.750000      5  2013    3\n",
              "...            ...           ...           ...           ...    ...   ...  ...\n",
              "2857  54204.929756  45290.590268  54204.929756  48824.426869      2  2021   23\n",
              "2858  51290.136695  47213.498162  48835.087661  49705.333316      2  2021   24\n",
              "2859  51948.966982  47093.853019  49709.082425  47093.853019      2  2021   25\n",
              "2860  48370.785260  44454.842114  47180.464054  46339.760083      2  2021   26\n",
              "2861  48253.270101  45269.025766  46344.772237  46188.451275      2  2021   27\n",
              "\n",
              "[2862 rows x 7 columns]"
            ]
          },
          "metadata": {
            "tags": []
          },
          "execution_count": 104
        }
      ]
    },
    {
      "cell_type": "markdown",
      "metadata": {
        "id": "pgXjX7av1xNW"
      },
      "source": [
        "\r\n",
        "# Test/Train Split"
      ]
    },
    {
      "cell_type": "code",
      "metadata": {
        "id": "f5ZOTj64vsxg"
      },
      "source": [
        "X = df.drop('Close', axis=1) # exluding the close column that our model will predict\r\n",
        "y = df['Close'] # what our model will predict"
      ],
      "execution_count": null,
      "outputs": []
    },
    {
      "cell_type": "code",
      "metadata": {
        "id": "01nSfLklwOO0"
      },
      "source": [
        "# import a built-in function called \"train_test_split\" from sklearn.model_selection\r\n",
        "from sklearn.model_selection import train_test_split"
      ],
      "execution_count": null,
      "outputs": []
    },
    {
      "cell_type": "code",
      "metadata": {
        "id": "BS_rdOmSwS5b"
      },
      "source": [
        "X_train, X_test, y_train, y_test = train_test_split(X, y, test_size=0.3, random_state=101)"
      ],
      "execution_count": null,
      "outputs": []
    },
    {
      "cell_type": "markdown",
      "metadata": {
        "id": "66up817H1mR1"
      },
      "source": [
        "# Scaling"
      ]
    },
    {
      "cell_type": "code",
      "metadata": {
        "id": "VDqcv6zTw-9D"
      },
      "source": [
        " #importing  built-in function called MinMaxScaler\r\n",
        "from sklearn.preprocessing import MinMaxScaler"
      ],
      "execution_count": null,
      "outputs": []
    },
    {
      "cell_type": "code",
      "metadata": {
        "id": "4xQfj_KdxMLq"
      },
      "source": [
        "scaler = MinMaxScaler()"
      ],
      "execution_count": null,
      "outputs": []
    },
    {
      "cell_type": "code",
      "metadata": {
        "id": "en7DZYOxxSw5"
      },
      "source": [
        "X_train = scaler.fit_transform(X_train) # fit and transforming our train set simultaneously\r\n",
        "X_test = scaler.transform(X_test) # only transforming our test set"
      ],
      "execution_count": null,
      "outputs": []
    },
    {
      "cell_type": "markdown",
      "metadata": {
        "id": "8YWrvIvC3XHR"
      },
      "source": [
        "# Creating the Model"
      ]
    },
    {
      "cell_type": "code",
      "metadata": {
        "id": "05gpLK1Y3dj_"
      },
      "source": [
        "from tensorflow.keras.models import Sequential\r\n",
        "from tensorflow.keras.layers import Dense, Activation\r\n",
        "from tensorflow.keras.optimizers import Adam"
      ],
      "execution_count": null,
      "outputs": []
    },
    {
      "cell_type": "code",
      "metadata": {
        "colab": {
          "base_uri": "https://localhost:8080/"
        },
        "id": "HsAxYuRP5893",
        "outputId": "402ce9e1-2dae-46da-bdd8-f12fb3a9d33b"
      },
      "source": [
        "X_train.shape, X_test.shape # checking the input shape"
      ],
      "execution_count": null,
      "outputs": [
        {
          "output_type": "execute_result",
          "data": {
            "text/plain": [
              "((2003, 6), (859, 6))"
            ]
          },
          "metadata": {
            "tags": []
          },
          "execution_count": 112
        }
      ]
    },
    {
      "cell_type": "code",
      "metadata": {
        "id": "4KeCHKe75_bC"
      },
      "source": [
        "model = Sequential()\r\n",
        "\r\n",
        "model.add(Dense(19,activation='relu'))\r\n",
        "model.add(Dense(19,activation='relu'))\r\n",
        "model.add(Dense(19,activation='relu'))\r\n",
        "model.add(Dense(19,activation='relu'))\r\n",
        "model.add(Dense(1))\r\n",
        "\r\n",
        "# compiling with Adam optimizer\r\n",
        "# choosing mean-squared error as the loss metric for the regression model \r\n",
        "model.compile(optimizer='adam',loss='mse')  "
      ],
      "execution_count": null,
      "outputs": []
    },
    {
      "cell_type": "code",
      "metadata": {
        "colab": {
          "base_uri": "https://localhost:8080/"
        },
        "id": "qQEpjDVd6DWk",
        "outputId": "781e45d6-cb16-40de-ef56-fc4b0370c8fd"
      },
      "source": [
        "# Checking the model summary\r\n",
        "model.build(X_train.shape)\r\n",
        "model.summary()"
      ],
      "execution_count": null,
      "outputs": [
        {
          "output_type": "stream",
          "text": [
            "Model: \"sequential_1\"\n",
            "_________________________________________________________________\n",
            "Layer (type)                 Output Shape              Param #   \n",
            "=================================================================\n",
            "dense_5 (Dense)              (2003, 19)                133       \n",
            "_________________________________________________________________\n",
            "dense_6 (Dense)              (2003, 19)                380       \n",
            "_________________________________________________________________\n",
            "dense_7 (Dense)              (2003, 19)                380       \n",
            "_________________________________________________________________\n",
            "dense_8 (Dense)              (2003, 19)                380       \n",
            "_________________________________________________________________\n",
            "dense_9 (Dense)              (2003, 1)                 20        \n",
            "=================================================================\n",
            "Total params: 1,293\n",
            "Trainable params: 1,293\n",
            "Non-trainable params: 0\n",
            "_________________________________________________________________\n"
          ],
          "name": "stdout"
        }
      ]
    },
    {
      "cell_type": "code",
      "metadata": {
        "id": "Or1qzkLc6TGO"
      },
      "source": [
        "from tensorflow.keras.callbacks import EarlyStopping"
      ],
      "execution_count": null,
      "outputs": []
    },
    {
      "cell_type": "code",
      "metadata": {
        "id": "Gtmm6eg86W3X"
      },
      "source": [
        "early_stop = EarlyStopping(monitor='val_loss',patience=2)"
      ],
      "execution_count": null,
      "outputs": []
    },
    {
      "cell_type": "markdown",
      "metadata": {
        "id": "vB_qNrjZ6wEb"
      },
      "source": [
        "#Training the model"
      ]
    },
    {
      "cell_type": "code",
      "metadata": {
        "colab": {
          "base_uri": "https://localhost:8080/"
        },
        "id": "xeaAEZnx61Hr",
        "outputId": "ced0f446-a92f-480b-91ec-038166059a94"
      },
      "source": [
        "model.fit(x=X_train,\r\n",
        "          y=y_train.values,   # y_train.values instead of y_train to pass in a numpy array\r\n",
        "          validation_data=(X_test,y_test.values),\r\n",
        "          batch_size=128,\r\n",
        "          epochs=400,\r\n",
        "          callbacks=[early_stop])"
      ],
      "execution_count": null,
      "outputs": [
        {
          "output_type": "stream",
          "text": [
            "Epoch 1/400\n",
            "16/16 [==============================] - 1s 20ms/step - loss: 76093422.5882 - val_loss: 63006576.0000\n",
            "Epoch 2/400\n",
            "16/16 [==============================] - 0s 6ms/step - loss: 74806292.0000 - val_loss: 63002288.0000\n",
            "Epoch 3/400\n",
            "16/16 [==============================] - 0s 7ms/step - loss: 77517293.6471 - val_loss: 62993720.0000\n",
            "Epoch 4/400\n",
            "16/16 [==============================] - 0s 7ms/step - loss: 74138594.3529 - val_loss: 62976348.0000\n",
            "Epoch 5/400\n",
            "16/16 [==============================] - 0s 7ms/step - loss: 71880652.2353 - val_loss: 62940552.0000\n",
            "Epoch 6/400\n",
            "16/16 [==============================] - 0s 6ms/step - loss: 77529203.2941 - val_loss: 62866468.0000\n",
            "Epoch 7/400\n",
            "16/16 [==============================] - 0s 7ms/step - loss: 82810858.3529 - val_loss: 62717660.0000\n",
            "Epoch 8/400\n",
            "16/16 [==============================] - 0s 5ms/step - loss: 71616329.4118 - val_loss: 62443072.0000\n",
            "Epoch 9/400\n",
            "16/16 [==============================] - 0s 6ms/step - loss: 77493881.1765 - val_loss: 61954824.0000\n",
            "Epoch 10/400\n",
            "16/16 [==============================] - 0s 6ms/step - loss: 71943023.7647 - val_loss: 61148368.0000\n",
            "Epoch 11/400\n",
            "16/16 [==============================] - 0s 6ms/step - loss: 76490604.8235 - val_loss: 59890840.0000\n",
            "Epoch 12/400\n",
            "16/16 [==============================] - 0s 6ms/step - loss: 71365260.2353 - val_loss: 58013112.0000\n",
            "Epoch 13/400\n",
            "16/16 [==============================] - 0s 6ms/step - loss: 77752525.1765 - val_loss: 55408692.0000\n",
            "Epoch 14/400\n",
            "16/16 [==============================] - 0s 6ms/step - loss: 69189985.1765 - val_loss: 51979808.0000\n",
            "Epoch 15/400\n",
            "16/16 [==============================] - 0s 5ms/step - loss: 60729924.9412 - val_loss: 47823588.0000\n",
            "Epoch 16/400\n",
            "16/16 [==============================] - 0s 6ms/step - loss: 60764818.5882 - val_loss: 43085412.0000\n",
            "Epoch 17/400\n",
            "16/16 [==============================] - 0s 6ms/step - loss: 57494626.8235 - val_loss: 38363228.0000\n",
            "Epoch 18/400\n",
            "16/16 [==============================] - 0s 7ms/step - loss: 49493736.0000 - val_loss: 34456888.0000\n",
            "Epoch 19/400\n",
            "16/16 [==============================] - 0s 6ms/step - loss: 52656871.2941 - val_loss: 31850202.0000\n",
            "Epoch 20/400\n",
            "16/16 [==============================] - 0s 7ms/step - loss: 34485214.3529 - val_loss: 30602328.0000\n",
            "Epoch 21/400\n",
            "16/16 [==============================] - 0s 6ms/step - loss: 40872919.7647 - val_loss: 29848732.0000\n",
            "Epoch 22/400\n",
            "16/16 [==============================] - 0s 7ms/step - loss: 35784276.5882 - val_loss: 29143434.0000\n",
            "Epoch 23/400\n",
            "16/16 [==============================] - 0s 6ms/step - loss: 34349566.0000 - val_loss: 28333890.0000\n",
            "Epoch 24/400\n",
            "16/16 [==============================] - 0s 6ms/step - loss: 32305936.3529 - val_loss: 27459138.0000\n",
            "Epoch 25/400\n",
            "16/16 [==============================] - 0s 5ms/step - loss: 39932370.5882 - val_loss: 26557176.0000\n",
            "Epoch 26/400\n",
            "16/16 [==============================] - 0s 6ms/step - loss: 36737376.5882 - val_loss: 25601824.0000\n",
            "Epoch 27/400\n",
            "16/16 [==============================] - 0s 6ms/step - loss: 31905079.4118 - val_loss: 24623840.0000\n",
            "Epoch 28/400\n",
            "16/16 [==============================] - 0s 7ms/step - loss: 33026774.2353 - val_loss: 23605148.0000\n",
            "Epoch 29/400\n",
            "16/16 [==============================] - 0s 6ms/step - loss: 28086244.0588 - val_loss: 22580506.0000\n",
            "Epoch 30/400\n",
            "16/16 [==============================] - 0s 5ms/step - loss: 27949075.5882 - val_loss: 21474208.0000\n",
            "Epoch 31/400\n",
            "16/16 [==============================] - 0s 5ms/step - loss: 26423496.2353 - val_loss: 20330808.0000\n",
            "Epoch 32/400\n",
            "16/16 [==============================] - 0s 5ms/step - loss: 25882552.2353 - val_loss: 19132110.0000\n",
            "Epoch 33/400\n",
            "16/16 [==============================] - 0s 6ms/step - loss: 25858565.0588 - val_loss: 17907516.0000\n",
            "Epoch 34/400\n",
            "16/16 [==============================] - 0s 6ms/step - loss: 21038671.1765 - val_loss: 16630561.0000\n",
            "Epoch 35/400\n",
            "16/16 [==============================] - 0s 6ms/step - loss: 21230648.3529 - val_loss: 15332763.0000\n",
            "Epoch 36/400\n",
            "16/16 [==============================] - 0s 7ms/step - loss: 21122695.0588 - val_loss: 14000602.0000\n",
            "Epoch 37/400\n",
            "16/16 [==============================] - 0s 7ms/step - loss: 17469204.5294 - val_loss: 12661752.0000\n",
            "Epoch 38/400\n",
            "16/16 [==============================] - 0s 6ms/step - loss: 15619805.9412 - val_loss: 11351911.0000\n",
            "Epoch 39/400\n",
            "16/16 [==============================] - 0s 6ms/step - loss: 14147096.1765 - val_loss: 10066244.0000\n",
            "Epoch 40/400\n",
            "16/16 [==============================] - 0s 7ms/step - loss: 14065363.2941 - val_loss: 8798805.0000\n",
            "Epoch 41/400\n",
            "16/16 [==============================] - 0s 8ms/step - loss: 11694946.3529 - val_loss: 7601325.0000\n",
            "Epoch 42/400\n",
            "16/16 [==============================] - 0s 6ms/step - loss: 9569159.4706 - val_loss: 6541166.0000\n",
            "Epoch 43/400\n",
            "16/16 [==============================] - 0s 5ms/step - loss: 7761897.2647 - val_loss: 5607352.5000\n",
            "Epoch 44/400\n",
            "16/16 [==============================] - 0s 5ms/step - loss: 7886283.7647 - val_loss: 4778658.5000\n",
            "Epoch 45/400\n",
            "16/16 [==============================] - 0s 5ms/step - loss: 5723260.7647 - val_loss: 4057993.5000\n",
            "Epoch 46/400\n",
            "16/16 [==============================] - 0s 5ms/step - loss: 5158743.6765 - val_loss: 3441341.2500\n",
            "Epoch 47/400\n",
            "16/16 [==============================] - 0s 7ms/step - loss: 4556101.0441 - val_loss: 2910909.0000\n",
            "Epoch 48/400\n",
            "16/16 [==============================] - 0s 7ms/step - loss: 3602237.9706 - val_loss: 2489273.7500\n",
            "Epoch 49/400\n",
            "16/16 [==============================] - 0s 8ms/step - loss: 2809733.7794 - val_loss: 2148694.0000\n",
            "Epoch 50/400\n",
            "16/16 [==============================] - 0s 6ms/step - loss: 2848532.5294 - val_loss: 1882563.2500\n",
            "Epoch 51/400\n",
            "16/16 [==============================] - 0s 8ms/step - loss: 2297003.3897 - val_loss: 1647078.8750\n",
            "Epoch 52/400\n",
            "16/16 [==============================] - 0s 6ms/step - loss: 2123622.1103 - val_loss: 1471514.3750\n",
            "Epoch 53/400\n",
            "16/16 [==============================] - 0s 6ms/step - loss: 1684902.3088 - val_loss: 1323717.1250\n",
            "Epoch 54/400\n",
            "16/16 [==============================] - 0s 5ms/step - loss: 1560340.7426 - val_loss: 1210005.1250\n",
            "Epoch 55/400\n",
            "16/16 [==============================] - 0s 5ms/step - loss: 1441706.6985 - val_loss: 1100980.0000\n",
            "Epoch 56/400\n",
            "16/16 [==============================] - 0s 5ms/step - loss: 1157471.8051 - val_loss: 1015840.3125\n",
            "Epoch 57/400\n",
            "16/16 [==============================] - 0s 5ms/step - loss: 1200830.0368 - val_loss: 951829.6875\n",
            "Epoch 58/400\n",
            "16/16 [==============================] - 0s 7ms/step - loss: 1019139.5809 - val_loss: 882621.1875\n",
            "Epoch 59/400\n",
            "16/16 [==============================] - 0s 6ms/step - loss: 949576.7610 - val_loss: 827278.7500\n",
            "Epoch 60/400\n",
            "16/16 [==============================] - 0s 6ms/step - loss: 901717.6691 - val_loss: 773869.8750\n",
            "Epoch 61/400\n",
            "16/16 [==============================] - 0s 7ms/step - loss: 819908.4301 - val_loss: 730809.3125\n",
            "Epoch 62/400\n",
            "16/16 [==============================] - 0s 7ms/step - loss: 846770.5772 - val_loss: 687078.0625\n",
            "Epoch 63/400\n",
            "16/16 [==============================] - 0s 6ms/step - loss: 736532.5625 - val_loss: 647008.1250\n",
            "Epoch 64/400\n",
            "16/16 [==============================] - 0s 6ms/step - loss: 737691.3309 - val_loss: 612094.3750\n",
            "Epoch 65/400\n",
            "16/16 [==============================] - 0s 7ms/step - loss: 614657.0221 - val_loss: 576180.8125\n",
            "Epoch 66/400\n",
            "16/16 [==============================] - 0s 5ms/step - loss: 640484.8125 - val_loss: 546443.9375\n",
            "Epoch 67/400\n",
            "16/16 [==============================] - 0s 6ms/step - loss: 605756.0662 - val_loss: 515036.7188\n",
            "Epoch 68/400\n",
            "16/16 [==============================] - 0s 6ms/step - loss: 582350.1581 - val_loss: 487536.5312\n",
            "Epoch 69/400\n",
            "16/16 [==============================] - 0s 9ms/step - loss: 551140.1673 - val_loss: 462309.1562\n",
            "Epoch 70/400\n",
            "16/16 [==============================] - 0s 7ms/step - loss: 480452.4890 - val_loss: 445508.3125\n",
            "Epoch 71/400\n",
            "16/16 [==============================] - 0s 8ms/step - loss: 487019.0239 - val_loss: 419759.6562\n",
            "Epoch 72/400\n",
            "16/16 [==============================] - 0s 7ms/step - loss: 499873.8162 - val_loss: 402420.1875\n",
            "Epoch 73/400\n",
            "16/16 [==============================] - 0s 7ms/step - loss: 437279.7812 - val_loss: 383055.1562\n",
            "Epoch 74/400\n",
            "16/16 [==============================] - 0s 6ms/step - loss: 416197.5441 - val_loss: 368756.3750\n",
            "Epoch 75/400\n",
            "16/16 [==============================] - 0s 5ms/step - loss: 406632.9007 - val_loss: 349761.3438\n",
            "Epoch 76/400\n",
            "16/16 [==============================] - 0s 6ms/step - loss: 386854.9540 - val_loss: 336993.0312\n",
            "Epoch 77/400\n",
            "16/16 [==============================] - 0s 7ms/step - loss: 388165.2335 - val_loss: 325066.9375\n",
            "Epoch 78/400\n",
            "16/16 [==============================] - 0s 6ms/step - loss: 388537.5956 - val_loss: 313270.1250\n",
            "Epoch 79/400\n",
            "16/16 [==============================] - 0s 6ms/step - loss: 339453.8603 - val_loss: 299867.5312\n",
            "Epoch 80/400\n",
            "16/16 [==============================] - 0s 5ms/step - loss: 343456.9614 - val_loss: 291424.8125\n",
            "Epoch 81/400\n",
            "16/16 [==============================] - 0s 5ms/step - loss: 340925.4283 - val_loss: 283665.7500\n",
            "Epoch 82/400\n",
            "16/16 [==============================] - 0s 6ms/step - loss: 298991.1048 - val_loss: 274264.5000\n",
            "Epoch 83/400\n",
            "16/16 [==============================] - 0s 5ms/step - loss: 278385.1039 - val_loss: 263638.6562\n",
            "Epoch 84/400\n",
            "16/16 [==============================] - 0s 5ms/step - loss: 315755.2335 - val_loss: 260079.2812\n",
            "Epoch 85/400\n",
            "16/16 [==============================] - 0s 4ms/step - loss: 283667.4688 - val_loss: 251442.1719\n",
            "Epoch 86/400\n",
            "16/16 [==============================] - 0s 5ms/step - loss: 282229.9614 - val_loss: 244843.4688\n",
            "Epoch 87/400\n",
            "16/16 [==============================] - 0s 6ms/step - loss: 258035.8897 - val_loss: 238545.9531\n",
            "Epoch 88/400\n",
            "16/16 [==============================] - 0s 6ms/step - loss: 251651.8557 - val_loss: 234432.9375\n",
            "Epoch 89/400\n",
            "16/16 [==============================] - 0s 7ms/step - loss: 249414.1415 - val_loss: 229863.0156\n",
            "Epoch 90/400\n",
            "16/16 [==============================] - 0s 7ms/step - loss: 262722.2748 - val_loss: 223428.5625\n",
            "Epoch 91/400\n",
            "16/16 [==============================] - 0s 8ms/step - loss: 250331.0230 - val_loss: 219655.9688\n",
            "Epoch 92/400\n",
            "16/16 [==============================] - 0s 6ms/step - loss: 254400.0303 - val_loss: 218195.2031\n",
            "Epoch 93/400\n",
            "16/16 [==============================] - 0s 5ms/step - loss: 230610.1461 - val_loss: 210309.9062\n",
            "Epoch 94/400\n",
            "16/16 [==============================] - 0s 6ms/step - loss: 212383.6388 - val_loss: 209276.0938\n",
            "Epoch 95/400\n",
            "16/16 [==============================] - 0s 5ms/step - loss: 260989.0763 - val_loss: 205833.5156\n",
            "Epoch 96/400\n",
            "16/16 [==============================] - 0s 5ms/step - loss: 210697.7233 - val_loss: 200941.0312\n",
            "Epoch 97/400\n",
            "16/16 [==============================] - 0s 6ms/step - loss: 223980.2188 - val_loss: 200407.8438\n",
            "Epoch 98/400\n",
            "16/16 [==============================] - 0s 6ms/step - loss: 206971.8869 - val_loss: 196258.1719\n",
            "Epoch 99/400\n",
            "16/16 [==============================] - 0s 6ms/step - loss: 217636.9191 - val_loss: 194098.1250\n",
            "Epoch 100/400\n",
            "16/16 [==============================] - 0s 6ms/step - loss: 199864.2619 - val_loss: 191583.6250\n",
            "Epoch 101/400\n",
            "16/16 [==============================] - 0s 6ms/step - loss: 207948.6250 - val_loss: 188712.1562\n",
            "Epoch 102/400\n",
            "16/16 [==============================] - 0s 6ms/step - loss: 196517.1710 - val_loss: 187775.6875\n",
            "Epoch 103/400\n",
            "16/16 [==============================] - 0s 5ms/step - loss: 183157.4669 - val_loss: 184947.8594\n",
            "Epoch 104/400\n",
            "16/16 [==============================] - 0s 6ms/step - loss: 177142.0781 - val_loss: 181788.3438\n",
            "Epoch 105/400\n",
            "16/16 [==============================] - 0s 5ms/step - loss: 210076.1471 - val_loss: 181973.9062\n",
            "Epoch 106/400\n",
            "16/16 [==============================] - 0s 6ms/step - loss: 195860.9044 - val_loss: 178897.3594\n",
            "Epoch 107/400\n",
            "16/16 [==============================] - 0s 6ms/step - loss: 207903.4283 - val_loss: 176086.2812\n",
            "Epoch 108/400\n",
            "16/16 [==============================] - 0s 7ms/step - loss: 216765.2077 - val_loss: 175708.9375\n",
            "Epoch 109/400\n",
            "16/16 [==============================] - 0s 6ms/step - loss: 223042.2344 - val_loss: 173055.7188\n",
            "Epoch 110/400\n",
            "16/16 [==============================] - 0s 6ms/step - loss: 194814.0202 - val_loss: 170933.5000\n",
            "Epoch 111/400\n",
            "16/16 [==============================] - 0s 7ms/step - loss: 215457.5542 - val_loss: 169360.3281\n",
            "Epoch 112/400\n",
            "16/16 [==============================] - 0s 6ms/step - loss: 187816.9136 - val_loss: 168316.2500\n",
            "Epoch 113/400\n",
            "16/16 [==============================] - 0s 5ms/step - loss: 175379.8906 - val_loss: 166495.0000\n",
            "Epoch 114/400\n",
            "16/16 [==============================] - 0s 5ms/step - loss: 192514.5312 - val_loss: 165760.3281\n",
            "Epoch 115/400\n",
            "16/16 [==============================] - 0s 6ms/step - loss: 174490.6489 - val_loss: 165866.1250\n",
            "Epoch 116/400\n",
            "16/16 [==============================] - 0s 5ms/step - loss: 171910.9421 - val_loss: 162269.8438\n",
            "Epoch 117/400\n",
            "16/16 [==============================] - 0s 5ms/step - loss: 196181.4366 - val_loss: 161128.3438\n",
            "Epoch 118/400\n",
            "16/16 [==============================] - 0s 5ms/step - loss: 154153.4357 - val_loss: 160258.1719\n",
            "Epoch 119/400\n",
            "16/16 [==============================] - 0s 5ms/step - loss: 176278.0184 - val_loss: 157871.8281\n",
            "Epoch 120/400\n",
            "16/16 [==============================] - 0s 6ms/step - loss: 193575.5699 - val_loss: 156999.2344\n",
            "Epoch 121/400\n",
            "16/16 [==============================] - 0s 5ms/step - loss: 161626.1517 - val_loss: 156661.1562\n",
            "Epoch 122/400\n",
            "16/16 [==============================] - 0s 5ms/step - loss: 171624.1415 - val_loss: 154625.6719\n",
            "Epoch 123/400\n",
            "16/16 [==============================] - 0s 4ms/step - loss: 161697.5928 - val_loss: 153525.2188\n",
            "Epoch 124/400\n",
            "16/16 [==============================] - 0s 4ms/step - loss: 145496.2592 - val_loss: 151594.9375\n",
            "Epoch 125/400\n",
            "16/16 [==============================] - 0s 5ms/step - loss: 189325.5809 - val_loss: 151717.3906\n",
            "Epoch 126/400\n",
            "16/16 [==============================] - 0s 5ms/step - loss: 163515.5864 - val_loss: 150259.6562\n",
            "Epoch 127/400\n",
            "16/16 [==============================] - 0s 6ms/step - loss: 140122.6723 - val_loss: 149513.9219\n",
            "Epoch 128/400\n",
            "16/16 [==============================] - 0s 6ms/step - loss: 146414.9127 - val_loss: 147711.0469\n",
            "Epoch 129/400\n",
            "16/16 [==============================] - 0s 6ms/step - loss: 148028.7252 - val_loss: 147030.5781\n",
            "Epoch 130/400\n",
            "16/16 [==============================] - 0s 6ms/step - loss: 171068.1241 - val_loss: 146140.2188\n",
            "Epoch 131/400\n",
            "16/16 [==============================] - 0s 5ms/step - loss: 201111.0542 - val_loss: 143304.8750\n",
            "Epoch 132/400\n",
            "16/16 [==============================] - 0s 5ms/step - loss: 182404.1765 - val_loss: 143819.0156\n",
            "Epoch 133/400\n",
            "16/16 [==============================] - 0s 5ms/step - loss: 154521.3244 - val_loss: 143192.9062\n",
            "Epoch 134/400\n",
            "16/16 [==============================] - 0s 5ms/step - loss: 142052.9233 - val_loss: 140070.8125\n",
            "Epoch 135/400\n",
            "16/16 [==============================] - 0s 5ms/step - loss: 148102.8603 - val_loss: 141927.6406\n",
            "Epoch 136/400\n",
            "16/16 [==============================] - 0s 5ms/step - loss: 155457.5441 - val_loss: 139581.2031\n",
            "Epoch 137/400\n",
            "16/16 [==============================] - 0s 6ms/step - loss: 161331.9145 - val_loss: 138606.6250\n",
            "Epoch 138/400\n",
            "16/16 [==============================] - 0s 4ms/step - loss: 145313.1838 - val_loss: 137102.2969\n",
            "Epoch 139/400\n",
            "16/16 [==============================] - 0s 5ms/step - loss: 161632.9954 - val_loss: 137258.2656\n",
            "Epoch 140/400\n",
            "16/16 [==============================] - 0s 6ms/step - loss: 133965.4559 - val_loss: 134477.6250\n",
            "Epoch 141/400\n",
            "16/16 [==============================] - 0s 6ms/step - loss: 171020.5423 - val_loss: 136627.2344\n",
            "Epoch 142/400\n",
            "16/16 [==============================] - 0s 6ms/step - loss: 135087.9830 - val_loss: 132565.6875\n",
            "Epoch 143/400\n",
            "16/16 [==============================] - 0s 6ms/step - loss: 131115.1645 - val_loss: 134866.1406\n",
            "Epoch 144/400\n",
            "16/16 [==============================] - 0s 6ms/step - loss: 131892.5882 - val_loss: 132295.0781\n",
            "Epoch 145/400\n",
            "16/16 [==============================] - 0s 6ms/step - loss: 143490.0519 - val_loss: 130963.5781\n",
            "Epoch 146/400\n",
            "16/16 [==============================] - 0s 6ms/step - loss: 148236.0138 - val_loss: 130411.0547\n",
            "Epoch 147/400\n",
            "16/16 [==============================] - 0s 6ms/step - loss: 139082.8493 - val_loss: 129931.9922\n",
            "Epoch 148/400\n",
            "16/16 [==============================] - 0s 5ms/step - loss: 183508.0110 - val_loss: 128004.7500\n",
            "Epoch 149/400\n",
            "16/16 [==============================] - 0s 5ms/step - loss: 172587.3042 - val_loss: 127247.4219\n",
            "Epoch 150/400\n",
            "16/16 [==============================] - 0s 7ms/step - loss: 161202.8470 - val_loss: 126412.3516\n",
            "Epoch 151/400\n",
            "16/16 [==============================] - 0s 6ms/step - loss: 131266.0069 - val_loss: 126062.1484\n",
            "Epoch 152/400\n",
            "16/16 [==============================] - 0s 6ms/step - loss: 147000.0285 - val_loss: 125572.5938\n",
            "Epoch 153/400\n",
            "16/16 [==============================] - 0s 5ms/step - loss: 127938.5450 - val_loss: 123791.4062\n",
            "Epoch 154/400\n",
            "16/16 [==============================] - 0s 6ms/step - loss: 118832.3819 - val_loss: 122456.0312\n",
            "Epoch 155/400\n",
            "16/16 [==============================] - 0s 7ms/step - loss: 147350.5322 - val_loss: 123331.5469\n",
            "Epoch 156/400\n",
            "16/16 [==============================] - 0s 6ms/step - loss: 145867.1094 - val_loss: 121271.2344\n",
            "Epoch 157/400\n",
            "16/16 [==============================] - 0s 6ms/step - loss: 138460.4540 - val_loss: 121609.4453\n",
            "Epoch 158/400\n",
            "16/16 [==============================] - 0s 7ms/step - loss: 126145.4623 - val_loss: 120183.2656\n",
            "Epoch 159/400\n",
            "16/16 [==============================] - 0s 6ms/step - loss: 125470.4453 - val_loss: 119915.6016\n",
            "Epoch 160/400\n",
            "16/16 [==============================] - 0s 5ms/step - loss: 126480.6250 - val_loss: 118501.4297\n",
            "Epoch 161/400\n",
            "16/16 [==============================] - 0s 5ms/step - loss: 110982.5414 - val_loss: 119562.4297\n",
            "Epoch 162/400\n",
            "16/16 [==============================] - 0s 5ms/step - loss: 137265.5781 - val_loss: 116515.1016\n",
            "Epoch 163/400\n",
            "16/16 [==============================] - 0s 6ms/step - loss: 159754.4269 - val_loss: 117008.9688\n",
            "Epoch 164/400\n",
            "16/16 [==============================] - 0s 6ms/step - loss: 134871.5055 - val_loss: 115530.5234\n",
            "Epoch 165/400\n",
            "16/16 [==============================] - 0s 6ms/step - loss: 131690.5639 - val_loss: 115465.7578\n",
            "Epoch 166/400\n",
            "16/16 [==============================] - 0s 5ms/step - loss: 131893.1507 - val_loss: 115350.1484\n",
            "Epoch 167/400\n",
            "16/16 [==============================] - 0s 5ms/step - loss: 140323.0372 - val_loss: 113264.4688\n",
            "Epoch 168/400\n",
            "16/16 [==============================] - 0s 5ms/step - loss: 122878.6117 - val_loss: 113713.6484\n",
            "Epoch 169/400\n",
            "16/16 [==============================] - 0s 6ms/step - loss: 127147.6429 - val_loss: 112558.0703\n",
            "Epoch 170/400\n",
            "16/16 [==============================] - 0s 6ms/step - loss: 156890.9908 - val_loss: 111498.2109\n",
            "Epoch 171/400\n",
            "16/16 [==============================] - 0s 5ms/step - loss: 130405.1939 - val_loss: 111091.3281\n",
            "Epoch 172/400\n",
            "16/16 [==============================] - 0s 6ms/step - loss: 110126.2541 - val_loss: 111328.8828\n",
            "Epoch 173/400\n",
            "16/16 [==============================] - 0s 5ms/step - loss: 129297.4977 - val_loss: 109631.0859\n",
            "Epoch 174/400\n",
            "16/16 [==============================] - 0s 7ms/step - loss: 150476.2426 - val_loss: 109050.0000\n",
            "Epoch 175/400\n",
            "16/16 [==============================] - 0s 7ms/step - loss: 106703.4278 - val_loss: 109096.3047\n",
            "Epoch 176/400\n",
            "16/16 [==============================] - 0s 6ms/step - loss: 124861.9573 - val_loss: 107753.7109\n",
            "Epoch 177/400\n",
            "16/16 [==============================] - 0s 6ms/step - loss: 119055.3566 - val_loss: 107145.7812\n",
            "Epoch 178/400\n",
            "16/16 [==============================] - 0s 6ms/step - loss: 115530.7619 - val_loss: 107020.5469\n",
            "Epoch 179/400\n",
            "16/16 [==============================] - 0s 6ms/step - loss: 151453.6604 - val_loss: 105860.3047\n",
            "Epoch 180/400\n",
            "16/16 [==============================] - 0s 6ms/step - loss: 103296.8888 - val_loss: 105258.1328\n",
            "Epoch 181/400\n",
            "16/16 [==============================] - 0s 5ms/step - loss: 119478.2436 - val_loss: 105252.8047\n",
            "Epoch 182/400\n",
            "16/16 [==============================] - 0s 6ms/step - loss: 118184.7610 - val_loss: 104188.7812\n",
            "Epoch 183/400\n",
            "16/16 [==============================] - 0s 7ms/step - loss: 114058.3571 - val_loss: 103714.2500\n",
            "Epoch 184/400\n",
            "16/16 [==============================] - 0s 6ms/step - loss: 112735.9127 - val_loss: 103613.8516\n",
            "Epoch 185/400\n",
            "16/16 [==============================] - 0s 7ms/step - loss: 148700.9297 - val_loss: 102289.0234\n",
            "Epoch 186/400\n",
            "16/16 [==============================] - 0s 6ms/step - loss: 117528.5446 - val_loss: 101445.9922\n",
            "Epoch 187/400\n",
            "16/16 [==============================] - 0s 6ms/step - loss: 112232.7606 - val_loss: 101441.0234\n",
            "Epoch 188/400\n",
            "16/16 [==============================] - 0s 5ms/step - loss: 98942.9299 - val_loss: 100698.1641\n",
            "Epoch 189/400\n",
            "16/16 [==============================] - 0s 5ms/step - loss: 148676.6029 - val_loss: 100226.0078\n",
            "Epoch 190/400\n",
            "16/16 [==============================] - 0s 5ms/step - loss: 119800.8102 - val_loss: 99931.3125\n",
            "Epoch 191/400\n",
            "16/16 [==============================] - 0s 5ms/step - loss: 104608.5666 - val_loss: 98678.9844\n",
            "Epoch 192/400\n",
            "16/16 [==============================] - 0s 5ms/step - loss: 102678.7688 - val_loss: 98651.3594\n",
            "Epoch 193/400\n",
            "16/16 [==============================] - 0s 6ms/step - loss: 96693.2656 - val_loss: 98456.4453\n",
            "Epoch 194/400\n",
            "16/16 [==============================] - 0s 6ms/step - loss: 141250.1066 - val_loss: 97702.0938\n",
            "Epoch 195/400\n",
            "16/16 [==============================] - 0s 6ms/step - loss: 120723.1746 - val_loss: 97143.5469\n",
            "Epoch 196/400\n",
            "16/16 [==============================] - 0s 7ms/step - loss: 104192.5485 - val_loss: 96542.5312\n",
            "Epoch 197/400\n",
            "16/16 [==============================] - 0s 6ms/step - loss: 120872.4357 - val_loss: 95847.7266\n",
            "Epoch 198/400\n",
            "16/16 [==============================] - 0s 7ms/step - loss: 85866.5083 - val_loss: 95179.9609\n",
            "Epoch 199/400\n",
            "16/16 [==============================] - 0s 5ms/step - loss: 108447.2826 - val_loss: 94972.8984\n",
            "Epoch 200/400\n",
            "16/16 [==============================] - 0s 5ms/step - loss: 125875.6774 - val_loss: 94438.2891\n",
            "Epoch 201/400\n",
            "16/16 [==============================] - 0s 7ms/step - loss: 103595.1471 - val_loss: 93874.7500\n",
            "Epoch 202/400\n",
            "16/16 [==============================] - 0s 6ms/step - loss: 106418.4908 - val_loss: 93090.7031\n",
            "Epoch 203/400\n",
            "16/16 [==============================] - 0s 6ms/step - loss: 131166.7872 - val_loss: 93840.6797\n",
            "Epoch 204/400\n",
            "16/16 [==============================] - 0s 5ms/step - loss: 96661.6052 - val_loss: 92200.1953\n",
            "Epoch 205/400\n",
            "16/16 [==============================] - 0s 6ms/step - loss: 106323.7969 - val_loss: 92651.9766\n",
            "Epoch 206/400\n",
            "16/16 [==============================] - 0s 6ms/step - loss: 109678.1673 - val_loss: 91353.3516\n",
            "Epoch 207/400\n",
            "16/16 [==============================] - 0s 6ms/step - loss: 103605.2647 - val_loss: 90957.5078\n",
            "Epoch 208/400\n",
            "16/16 [==============================] - 0s 5ms/step - loss: 126222.5308 - val_loss: 90694.7266\n",
            "Epoch 209/400\n",
            "16/16 [==============================] - 0s 4ms/step - loss: 117285.2105 - val_loss: 89606.0781\n",
            "Epoch 210/400\n",
            "16/16 [==============================] - 0s 6ms/step - loss: 121706.8244 - val_loss: 90000.7656\n",
            "Epoch 211/400\n",
            "16/16 [==============================] - 0s 7ms/step - loss: 93292.0303 - val_loss: 88674.7969\n",
            "Epoch 212/400\n",
            "16/16 [==============================] - 0s 6ms/step - loss: 103026.2256 - val_loss: 88370.9062\n",
            "Epoch 213/400\n",
            "16/16 [==============================] - 0s 5ms/step - loss: 106912.5437 - val_loss: 88298.2969\n",
            "Epoch 214/400\n",
            "16/16 [==============================] - 0s 6ms/step - loss: 118178.6098 - val_loss: 87233.5000\n",
            "Epoch 215/400\n",
            "16/16 [==============================] - 0s 6ms/step - loss: 112225.0630 - val_loss: 89180.1641\n",
            "Epoch 216/400\n",
            "16/16 [==============================] - 0s 6ms/step - loss: 89729.4354 - val_loss: 86492.7188\n",
            "Epoch 217/400\n",
            "16/16 [==============================] - 0s 6ms/step - loss: 102141.1190 - val_loss: 86958.2344\n",
            "Epoch 218/400\n",
            "16/16 [==============================] - 0s 6ms/step - loss: 96110.6801 - val_loss: 85699.7812\n",
            "Epoch 219/400\n",
            "16/16 [==============================] - 0s 6ms/step - loss: 105616.4131 - val_loss: 85194.6094\n",
            "Epoch 220/400\n",
            "16/16 [==============================] - 0s 6ms/step - loss: 98068.3015 - val_loss: 85919.1641\n",
            "Epoch 221/400\n",
            "16/16 [==============================] - 0s 5ms/step - loss: 97832.2401 - val_loss: 84695.8672\n",
            "Epoch 222/400\n",
            "16/16 [==============================] - 0s 5ms/step - loss: 119396.5041 - val_loss: 83852.1406\n",
            "Epoch 223/400\n",
            "16/16 [==============================] - 0s 6ms/step - loss: 113294.1461 - val_loss: 83476.9766\n",
            "Epoch 224/400\n",
            "16/16 [==============================] - 0s 6ms/step - loss: 114675.9104 - val_loss: 83316.9297\n",
            "Epoch 225/400\n",
            "16/16 [==============================] - 0s 6ms/step - loss: 99754.7785 - val_loss: 83361.7344\n",
            "Epoch 226/400\n",
            "16/16 [==============================] - 0s 7ms/step - loss: 103615.8171 - val_loss: 82489.6094\n",
            "Epoch 227/400\n",
            "16/16 [==============================] - 0s 6ms/step - loss: 95867.4678 - val_loss: 82078.9141\n",
            "Epoch 228/400\n",
            "16/16 [==============================] - 0s 8ms/step - loss: 86369.3525 - val_loss: 82215.7031\n",
            "Epoch 229/400\n",
            "16/16 [==============================] - 0s 7ms/step - loss: 105959.3249 - val_loss: 81111.2109\n",
            "Epoch 230/400\n",
            "16/16 [==============================] - 0s 5ms/step - loss: 107837.9265 - val_loss: 80605.7031\n",
            "Epoch 231/400\n",
            "16/16 [==============================] - 0s 6ms/step - loss: 86858.5312 - val_loss: 80739.7656\n",
            "Epoch 232/400\n",
            "16/16 [==============================] - 0s 5ms/step - loss: 112528.6388 - val_loss: 81189.8672\n"
          ],
          "name": "stdout"
        },
        {
          "output_type": "execute_result",
          "data": {
            "text/plain": [
              "<tensorflow.python.keras.callbacks.History at 0x7fad82dd7b10>"
            ]
          },
          "metadata": {
            "tags": []
          },
          "execution_count": 117
        }
      ]
    },
    {
      "cell_type": "code",
      "metadata": {
        "colab": {
          "base_uri": "https://localhost:8080/",
          "height": 293
        },
        "id": "cCOi4Ane7glA",
        "outputId": "8c903c95-2f0b-473c-d4a5-280db12d7138"
      },
      "source": [
        "losses = pd.DataFrame(model.history.history)\r\n",
        "losses.plot()"
      ],
      "execution_count": null,
      "outputs": [
        {
          "output_type": "execute_result",
          "data": {
            "text/plain": [
              "<matplotlib.axes._subplots.AxesSubplot at 0x7fad8246ab50>"
            ]
          },
          "metadata": {
            "tags": []
          },
          "execution_count": 118
        },
        {
          "output_type": "display_data",
          "data": {
            "image/png": "[encoded data removed]",
            "text/plain": [
              "<Figure size 432x288 with 1 Axes>"
            ]
          },
          "metadata": {
            "tags": [],
            "needs_background": "light"
          }
        }
      ]
    },
    {
      "cell_type": "code",
      "metadata": {
        "id": "TnWqAV_v7tQD"
      },
      "source": [
        ""
      ],
      "execution_count": null,
      "outputs": []
    },
    {
      "cell_type": "markdown",
      "metadata": {
        "id": "cf9pNfvq7vKs"
      },
      "source": [
        "# Evaluation of the model"
      ]
    },
    {
      "cell_type": "code",
      "metadata": {
        "id": "CE1ifDIW7xQM"
      },
      "source": [
        "# For regression problems, r2 score is commonly used for the evaluation\r\n",
        "from sklearn.metrics import r2_score"
      ],
      "execution_count": null,
      "outputs": []
    },
    {
      "cell_type": "code",
      "metadata": {
        "id": "5KxNxBYh7y7w"
      },
      "source": [
        "# predicting with test dataset\r\n",
        "predictions = model.predict(X_test)"
      ],
      "execution_count": null,
      "outputs": []
    },
    {
      "cell_type": "code",
      "metadata": {
        "colab": {
          "base_uri": "https://localhost:8080/"
        },
        "id": "SjaSUeug70Rb",
        "outputId": "52aca544-b401-4412-d013-27c12e8b8431"
      },
      "source": [
        "print(r2_score(y_test.values, predictions))"
      ],
      "execution_count": null,
      "outputs": [
        {
          "output_type": "stream",
          "text": [
            "0.9980467454830511\n"
          ],
          "name": "stdout"
        }
      ]
    },
    {
      "cell_type": "code",
      "metadata": {
        "colab": {
          "base_uri": "https://localhost:8080/",
          "height": 391
        },
        "id": "2T_zZY2t71ju",
        "outputId": "abca56b7-d011-4e4a-a040-e66a693d40f2"
      },
      "source": [
        "# Visualization...\r\n",
        "\r\n",
        "plt.figure(figsize=(12, 6))\r\n",
        "\r\n",
        "# Our predictions\r\n",
        "plt.scatter(y_test,predictions)\r\n",
        "\r\n",
        "# Perfect predictions\r\n",
        "plt.plot(y_test,y_test,'r')"
      ],
      "execution_count": null,
      "outputs": [
        {
          "output_type": "execute_result",
          "data": {
            "text/plain": [
              "[<matplotlib.lines.Line2D at 0x7fad813e5810>]"
            ]
          },
          "metadata": {
            "tags": []
          },
          "execution_count": 122
        },
        {
          "output_type": "display_data",
          "data": {
            "image/png": "[encoded data removed]",
            "text/plain": [
              "<Figure size 864x432 with 1 Axes>"
            ]
          },
          "metadata": {
            "tags": [],
            "needs_background": "light"
          }
        }
      ]
    },
    {
      "cell_type": "code",
      "metadata": {
        "colab": {
          "base_uri": "https://localhost:8080/",
          "height": 335
        },
        "id": "Om8nFAuK8Di9",
        "outputId": "3a2dd016-540d-4d07-8bc4-15a50da78588"
      },
      "source": [
        "errors = y_test.values.reshape(859, 1) - predictions\r\n",
        "sns.distplot(errors)"
      ],
      "execution_count": null,
      "outputs": [
        {
          "output_type": "stream",
          "text": [
            "/usr/local/lib/python3.7/dist-packages/seaborn/distributions.py:2557: FutureWarning: `distplot` is a deprecated function and will be removed in a future version. Please adapt your code to use either `displot` (a figure-level function with similar flexibility) or `histplot` (an axes-level function for histograms).\n",
            "  warnings.warn(msg, FutureWarning)\n"
          ],
          "name": "stderr"
        },
        {
          "output_type": "execute_result",
          "data": {
            "text/plain": [
              "<matplotlib.axes._subplots.AxesSubplot at 0x7fad81425cd0>"
            ]
          },
          "metadata": {
            "tags": []
          },
          "execution_count": 123
        },
        {
          "output_type": "display_data",
          "data": {
            "image/png": "[encoded data removed]",
            "text/plain": [
              "<Figure size 432x288 with 1 Axes>"
            ]
          },
          "metadata": {
            "tags": [],
            "needs_background": "light"
          }
        }
      ]
    },
    {
      "cell_type": "code",
      "metadata": {
        "id": "e7nLi9OZ8GRQ"
      },
      "source": [
        ""
      ],
      "execution_count": null,
      "outputs": []
    },
    {
      "cell_type": "markdown",
      "metadata": {
        "id": "PChEMA-B8LrN"
      },
      "source": [
        "# Demo"
      ]
    },
    {
      "cell_type": "code",
      "metadata": {
        "id": "TDpea4yG8M6c"
      },
      "source": [
        "demo_closing = df.drop('Close',axis=1).iloc[2000]\r\n",
        "demo_closing = scaler.transform(demo_closing.values.reshape(-1, 6))"
      ],
      "execution_count": null,
      "outputs": []
    },
    {
      "cell_type": "code",
      "metadata": {
        "colab": {
          "base_uri": "https://localhost:8080/"
        },
        "id": "aQP79WKkC7Wq",
        "outputId": "5afb2045-eadc-40da-a995-d92f37091dc9"
      },
      "source": [
        "model.predict(demo_closing), df.iloc[2000]['Close']"
      ],
      "execution_count": null,
      "outputs": [
        {
          "output_type": "execute_result",
          "data": {
            "text/plain": [
              "(array([[6463.4688]], dtype=float32), 6489.19)"
            ]
          },
          "metadata": {
            "tags": []
          },
          "execution_count": 128
        }
      ]
    },
    {
      "cell_type": "code",
      "metadata": {
        "id": "qSfb2rBLDAkm"
      },
      "source": [
        ""
      ],
      "execution_count": null,
      "outputs": []
    }
  ]
}